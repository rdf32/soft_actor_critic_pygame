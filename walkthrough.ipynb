{
 "cells": [
  {
   "attachments": {},
   "cell_type": "markdown",
   "metadata": {},
   "source": [
    "highlight that started with random states keeping eval state the train state the same, then wasnt converging so decided to start with simplest case, one state -> get agent to overfit to it to determine if it is even possible -> started CNN approach -> wanted to reduce the dimensionality of the state space so that we could use a dnn model -> explain mask and then chip aggregates to create single vector -> showcase CNN works and could be trained better with more tuning and training but wanted to speed things up -> showcase overfitting of this problem but could be made to generalize -> analyze the results get some stats on how often the algorithms score a certain score and how they perform on other states -> compare CNN and DNN highlight it is because training was made easier by reduced dimensionality -> real world might not be as clean, would need to use UNET or something to encode the state space which isn't as accurate as known masking -> finally showcase the agent playing"
   ]
  },
  {
   "cell_type": "code",
   "execution_count": 26,
   "metadata": {},
   "outputs": [],
   "source": [
    "## setup CLI or train and agentplay\n"
   ]
  }
 ],
 "metadata": {
  "kernelspec": {
   "display_name": "Python 3 (ipykernel)",
   "language": "python",
   "name": "python3"
  },
  "language_info": {
   "codemirror_mode": {
    "name": "ipython",
    "version": 3
   },
   "file_extension": ".py",
   "mimetype": "text/x-python",
   "name": "python",
   "nbconvert_exporter": "python",
   "pygments_lexer": "ipython3",
   "version": "3.11.2"
  },
  "vscode": {
   "interpreter": {
    "hash": "369f2c481f4da34e4445cda3fffd2e751bd1c4d706f27375911949ba6bb62e1c"
   }
  }
 },
 "nbformat": 4,
 "nbformat_minor": 2
}
